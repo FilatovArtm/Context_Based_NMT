{
 "cells": [
  {
   "cell_type": "code",
   "execution_count": null,
   "metadata": {},
   "outputs": [],
   "source": [
    "sys.path.append('/workspace/MT/t2t_data_generators/')"
   ]
  },
  {
   "cell_type": "code",
   "execution_count": null,
   "metadata": {},
   "outputs": [],
   "source": [
    "from generator import ShadENRUOpusProblem"
   ]
  },
  {
   "cell_type": "code",
   "execution_count": null,
   "metadata": {},
   "outputs": [],
   "source": [
    "shad_problem = ShadENRUOpusProblem()"
   ]
  },
  {
   "cell_type": "code",
   "execution_count": null,
   "metadata": {},
   "outputs": [],
   "source": [
    "data = shad_problem.generate_encoded_samples(\n",
    "    '/workspace/MT/shad_nlp18_contextNMT/data_4prev/',\n",
    "    '/workspace/MT/shad_nlp18_contextNMT/data_4prev/',\n",
    "    problem.DatasetSplit.TRAIN\n",
    ")"
   ]
  },
  {
   "cell_type": "code",
   "execution_count": null,
   "metadata": {},
   "outputs": [],
   "source": [
    "has_input = True\n",
    "mode=tf.estimator.ModeKeys.TRAIN\n",
    "\n",
    "hparams = transformer.transformer_base_single_gpu()\n",
    "hparams.data_dir =  '/workspace/MT/shad_nlp18_contextNMT/data_4prev//'\n",
    "p_hparams = shad_problem.get_hparams(hparams)"
   ]
  },
  {
   "cell_type": "markdown",
   "metadata": {},
   "source": [
    "## Initializing the model"
   ]
  },
  {
   "cell_type": "code",
   "execution_count": null,
   "metadata": {},
   "outputs": [],
   "source": [
    "model = TransformerCache(hparams, mode, p_hparams)"
   ]
  },
  {
   "cell_type": "code",
   "execution_count": null,
   "metadata": {},
   "outputs": [],
   "source": [
    "out_logits, _ = model(features)"
   ]
  },
  {
   "cell_type": "code",
   "execution_count": null,
   "metadata": {},
   "outputs": [],
   "source": [
    "save_dict = {\"/\".join([\"transformer\"] + var.name[:-2].split('/')[1:]) : var for var in tf.global_variables()[3:]}"
   ]
  },
  {
   "cell_type": "code",
   "execution_count": null,
   "metadata": {},
   "outputs": [],
   "source": [
    "saver = tf.train.Saver(save_dict)\n",
    "ckpt = tf.train.get_checkpoint_state('/workspace/MT/train/transformer/')"
   ]
  },
  {
   "cell_type": "code",
   "execution_count": null,
   "metadata": {},
   "outputs": [],
   "source": [
    "sess = tf.Session()\n",
    "sess.run(tf.global_variables_initializer())\n",
    "if ckpt and ckpt.model_checkpoint_path:\n",
    "    saver.restore(sess, ckpt.model_checkpoint_path)\n",
    "else:\n",
    "    print(\"...no checkpoint found...\")"
   ]
  },
  {
   "cell_type": "code",
   "execution_count": null,
   "metadata": {},
   "outputs": [],
   "source": [
    "features_true = {\n",
    "    \"inputs\": tf.placeholder(shape=[None, None, 1, 1], dtype=tf.int32, name=\"inputs\"),\n",
    "    \"targets\": tf.placeholder(shape=[None, None, 1, 1], dtype=tf.int32, name=\"inputs\"),\n",
    "    \"target_space_id\": tf.constant(1, dtype=tf.int32)\n",
    "}"
   ]
  },
  {
   "cell_type": "code",
   "execution_count": null,
   "metadata": {},
   "outputs": [],
   "source": [
    "out_logits, _ = model(features_true)\n",
    "\n",
    "logits = tf.squeeze(out_logits, axis=[2, 3])\n",
    "\n",
    "loss = tf.nn.sparse_softmax_cross_entropy_with_logits(\n",
    "    logits=tf.reshape(out_logits, [-1, VOCAB_SIZE]),\n",
    "    labels=tf.reshape(features_true[\"targets\"], [-1]))\n",
    "loss = tf.reduce_mean(loss)\n",
    "\n",
    "apply_grad = tf.train.AdamOptimizer(0.001).minimize(loss, var_list=tf.global_variables()[:2])"
   ]
  },
  {
   "cell_type": "code",
   "execution_count": null,
   "metadata": {},
   "outputs": [],
   "source": [
    "#initialize adam's stuff\n",
    "sess.run(tf.initialize_variables(tf.global_variables()[-6:]))"
   ]
  },
  {
   "cell_type": "code",
   "execution_count": null,
   "metadata": {},
   "outputs": [],
   "source": [
    "data = shad_problem.generate_encoded_samples(\n",
    "    '/workspace/MT/shad_nlp18_contextNMT/data_4prev/',\n",
    "    '/workspace/MT/shad_nlp18_contextNMT/data_4prev/',\n",
    "    problem.DatasetSplit.TRAIN\n",
    ")"
   ]
  },
  {
   "cell_type": "code",
   "execution_count": null,
   "metadata": {},
   "outputs": [],
   "source": [
    "new_saver = tf.train.Saver(tf.global_variables()[:2])"
   ]
  },
  {
   "cell_type": "code",
   "execution_count": null,
   "metadata": {},
   "outputs": [],
   "source": [
    "import matplotlib.pyplot as plt\n",
    "%matplotlib inline\n",
    "from IPython.display import clear_output"
   ]
  },
  {
   "cell_type": "markdown",
   "metadata": {},
   "source": [
    "## Fine-tuning the mixing matrices for cache vector and transformer embedding"
   ]
  },
  {
   "cell_type": "code",
   "execution_count": null,
   "metadata": {},
   "outputs": [],
   "source": [
    "loss_data = []\n",
    "mean_loss = []\n",
    "iteration = 0\n",
    "glob_iteration = 0\n",
    "epoch = 0\n",
    "\n",
    "for it in data:\n",
    "    \n",
    "    inputs = np.array(it['inputs']).reshape((1, len(it['inputs']), 1, 1))\n",
    "    targets = np.array(it['targets']).reshape((1, len(it['targets']), 1, 1))\n",
    "    \n",
    "    l, _ = sess.run([loss, apply_grad], feed_dict={\n",
    "        features_true['inputs'] : inputs,\n",
    "        features_true['targets'] : targets\n",
    "    })\n",
    "    \n",
    "    loss_data.append(l)\n",
    "    \n",
    "    iteration += 1\n",
    "    glob_iteration += 1\n",
    "    \n",
    "    if iteration == 5:\n",
    "        model.sentence_cache.Flush()\n",
    "        iteration = 0\n",
    "    \n",
    "    if len(loss_data) == 1000:\n",
    "        clear_output(True)\n",
    "        mean_loss.append(np.mean(loss_data))\n",
    "        loss_data = []\n",
    "        print(\"Epoch {}, Iteration {}, Mean loss {}\".format(epoch, glob_iteration, mean_loss[-1]))\n",
    "        \n",
    "    if glob_iteration == 750000:\n",
    "        epoch += 1\n",
    "        glob_iteration = 0\n",
    "        new_saver.save(sess, '/workspace/MT/train_cache/transformer_cache')"
   ]
  }
 ],
 "metadata": {
  "kernelspec": {
   "display_name": "Python 3",
   "language": "python",
   "name": "python3"
  },
  "language_info": {
   "codemirror_mode": {
    "name": "ipython",
    "version": 3
   },
   "file_extension": ".py",
   "mimetype": "text/x-python",
   "name": "python",
   "nbconvert_exporter": "python",
   "pygments_lexer": "ipython3",
   "version": "3.6.4"
  }
 },
 "nbformat": 4,
 "nbformat_minor": 2
}
